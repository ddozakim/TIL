{
 "cells": [
  {
   "cell_type": "code",
   "execution_count": 2,
   "metadata": {},
   "outputs": [],
   "source": [
    "import cv2\n",
    "import mediapipe as mp"
   ]
  },
  {
   "cell_type": "code",
   "execution_count": 3,
   "metadata": {},
   "outputs": [],
   "source": [
    "# MediaPipe 얼굴 감지 객체와 그리기 객체 초기화\n",
    "mp_face_detection = mp.solutions.face_detection\n",
    "mp_drawing = mp.solutions.drawing_utils\n",
    "\n",
    "# 웹캠으로부터 비디오 캡처 시작\n",
    "cap = cv2.VideoCapture(0)\n",
    "\n",
    "# 얼굴 감지 모델 설정\n",
    "with mp_face_detection.FaceDetection(model_selection=0, min_detection_confidence=0.5) as face_detection:\n",
    "    while cap.isOpened():\n",
    "        success, image = cap.read()\n",
    "        if not success:\n",
    "            print(\"웹캠에서 이미지를 읽어오는 데 실패했습니다.\")\n",
    "            # 비디오 캡처가 실패한 경우, 다음 프레임을 계속 시도합니다.\n",
    "            continue\n",
    "\n",
    "        # BGR 이미지를 RGB로 변환\n",
    "        image = cv2.cvtColor(image, cv2.COLOR_BGR2RGB)\n",
    "\n",
    "        # # 성능 향상을 위해 이미지 쓰기 불가능으로 설정\n",
    "        # image.flags.writeable = False\n",
    "        \n",
    "        # 이미지에서 얼굴 감지\n",
    "        results = face_detection.process(image)\n",
    "\n",
    "        # # 이미지를 다시 BGR로 변환하여 그리기 작업 준비\n",
    "        # image.flags.writeable = True\n",
    "        \n",
    "        image = cv2.cvtColor(image, cv2.COLOR_RGB2BGR)\n",
    "\n",
    "        # 감지된 얼굴에 대한 정보 처리 및 사각형 그리기\n",
    "        if results.detections:\n",
    "            for detection in results.detections:\n",
    "                mp_drawing.draw_detection(image, detection)\n",
    "\n",
    "        # 결과 이미지 표시\n",
    "        cv2.imshow('Face Detection', image)\n",
    "\n",
    "        # 'q'를 누르면 반복을 종료하고 창을 닫음\n",
    "        if cv2.waitKey(5) & 0xFF == ord('q'):\n",
    "            break\n",
    "\n",
    "# 모든 자원 해제\n",
    "cap.release()\n",
    "cv2.destroyAllWindows()"
   ]
  },
  {
   "cell_type": "code",
   "execution_count": null,
   "metadata": {},
   "outputs": [],
   "source": []
  }
 ],
 "metadata": {
  "kernelspec": {
   "display_name": "sesac2024",
   "language": "python",
   "name": "python3"
  },
  "language_info": {
   "codemirror_mode": {
    "name": "ipython",
    "version": 3
   },
   "file_extension": ".py",
   "mimetype": "text/x-python",
   "name": "python",
   "nbconvert_exporter": "python",
   "pygments_lexer": "ipython3",
   "version": "3.10.14"
  }
 },
 "nbformat": 4,
 "nbformat_minor": 2
}
