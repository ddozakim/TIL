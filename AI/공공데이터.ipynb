{
 "cells": [
  {
   "cell_type": "code",
   "execution_count": 5,
   "metadata": {},
   "outputs": [],
   "source": [
    "import requests\n",
    "import json\n"
   ]
  },
  {
   "cell_type": "code",
   "execution_count": 6,
   "metadata": {},
   "outputs": [],
   "source": [
    "base_url= \"http://\"+\"apis.data.go.kr/1360000/TourStnInfoService1\"\n",
    "service_key = \"rjCfnLk/Dko+Z+86pf07UeWkKqVMNePzt1gOa2u/IKnHj0UKEV2H4BU9NDOYyGf3wXMKvXbscjr8Hb0xQtf0Jw==\""
   ]
  },
  {
   "cell_type": "code",
   "execution_count": 7,
   "metadata": {},
   "outputs": [],
   "source": [
    "end_point=\"/getTourStnVilageFcst1\""
   ]
  },
  {
   "cell_type": "code",
   "execution_count": 9,
   "metadata": {},
   "outputs": [],
   "source": [
    "params={\n",
    "    \"ServiceKey\" :service_key,\n",
    "    \"pageNo\" : 1,\n",
    "    \"numberOfRows\":\"10\",\n",
    "    \"dataType\":\"JSON\",\n",
    "    \"CURRENT_DATE\": \"2018123110\",\n",
    "    \"HOUR\" : \"24\",\n",
    "    \"COURSE_ID\":\"107\"\n",
    "}"
   ]
  },
  {
   "cell_type": "code",
   "execution_count": 11,
   "metadata": {},
   "outputs": [],
   "source": [
    "response = requests.get(\n",
    "    f\"{base_url}{end_point}\",\n",
    "    params=params,\n",
    "    verify=False\n",
    ")"
   ]
  },
  {
   "cell_type": "code",
   "execution_count": 12,
   "metadata": {},
   "outputs": [
    {
     "data": {
      "text/plain": [
       "<bound method Response.json of <Response [200]>>"
      ]
     },
     "execution_count": 12,
     "metadata": {},
     "output_type": "execute_result"
    }
   ],
   "source": [
    "data=response.json\n",
    "data"
   ]
  }
 ],
 "metadata": {
  "kernelspec": {
   "display_name": "sesac2024",
   "language": "python",
   "name": "python3"
  },
  "language_info": {
   "codemirror_mode": {
    "name": "ipython",
    "version": 3
   },
   "file_extension": ".py",
   "mimetype": "text/x-python",
   "name": "python",
   "nbconvert_exporter": "python",
   "pygments_lexer": "ipython3",
   "version": "3.10.14"
  }
 },
 "nbformat": 4,
 "nbformat_minor": 2
}
