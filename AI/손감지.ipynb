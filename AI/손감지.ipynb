{
 "cells": [
  {
   "cell_type": "code",
   "execution_count": 1,
   "metadata": {},
   "outputs": [],
   "source": [
    "import cv2\n",
    "import mediapipe as mp\n",
    "\n",
    "# MediaPipe Hands 모듈 초기화 - 미리 설정후 시작해보기\n",
    "mp_hands = mp.solutions.hands\n",
    "hands = mp_hands.Hands(\n",
    "    max_num_hands=2,               # 동시에 추적할 최대 손의 수\n",
    "    min_detection_confidence=0.5,  # 손 검출을 위한 최소 신뢰도\n",
    "    min_tracking_confidence=0.5)   # 손 추적을 위한 최소 신뢰도\n",
    "mp_drawing = mp.solutions.drawing_utils  # 그리기 함수 초기화\n",
    "\n",
    "# 웹캠 설정\n",
    "cap = cv2.VideoCapture(0)\n",
    "\n",
    "while cap.isOpened():\n",
    "    success, image = cap.read()\n",
    "    if not success:\n",
    "        continue\n",
    "\n",
    "    # BGR 이미지를 RGB로 변환\n",
    "    image = cv2.cvtColor(image, cv2.COLOR_BGR2RGB)\n",
    "\n",
    "    # 성능을 위해 이미지 쓰기 불가능으로 설정\n",
    "    # MediaPipe를 통해 손 검출\n",
    "    results = hands.process(image)\n",
    "\n",
    "    # 이미지를 RGB에서 BGR로 변환하여 그리기 작업 준비\n",
    "    image = cv2.cvtColor(image, cv2.COLOR_RGB2BGR)\n",
    "\n",
    "    # 검출된 손의 랜드마크를 이미지에 그림\n",
    "    if results.multi_hand_landmarks:\n",
    "        for hand_landmarks in results.multi_hand_landmarks:\n",
    "            mp_drawing.draw_landmarks(\n",
    "                image, hand_landmarks, mp_hands.HAND_CONNECTIONS,\n",
    "                mp_drawing.DrawingSpec(color=(121, 22, 76), thickness=2, circle_radius=4),\n",
    "                mp_drawing.DrawingSpec(color=(250, 44, 250), thickness=2))\n",
    "\n",
    "    # 결과 이미지 표시\n",
    "    cv2.imshow('Hand Tracking', image)\n",
    "\n",
    "    # 'q'를 눌러 종료\n",
    "    if cv2.waitKey(5) & 0xFF == ord('q'):\n",
    "        break\n",
    "\n",
    "cap.release()\n",
    "cv2.destroyAllWindows()"
   ]
  },
  {
   "cell_type": "code",
   "execution_count": null,
   "metadata": {},
   "outputs": [],
   "source": []
  }
 ],
 "metadata": {
  "kernelspec": {
   "display_name": "sesac2024",
   "language": "python",
   "name": "python3"
  },
  "language_info": {
   "codemirror_mode": {
    "name": "ipython",
    "version": 3
   },
   "file_extension": ".py",
   "mimetype": "text/x-python",
   "name": "python",
   "nbconvert_exporter": "python",
   "pygments_lexer": "ipython3",
   "version": "3.10.14"
  }
 },
 "nbformat": 4,
 "nbformat_minor": 2
}
